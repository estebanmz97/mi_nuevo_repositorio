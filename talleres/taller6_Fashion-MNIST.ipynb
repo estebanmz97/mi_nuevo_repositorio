{
  "cells": [
    {
      "cell_type": "markdown",
      "id": "lasting-young",
      "metadata": {
        "id": "lasting-young"
      },
      "source": [
        "#  <center> Taller  de Aprendizaje Automático </center>\n",
        "##  <center> Taller 6: Fashion MNIST  </center>"
      ]
    },
    {
      "cell_type": "markdown",
      "id": "expanded-friendly",
      "metadata": {
        "id": "expanded-friendly"
      },
      "source": [
        "En esta actividad se diseñará y entrenará una arquitectura para clasificar las imágenes del dataset *Fashion MNIST*.\n",
        "\n",
        "## Objetivos\n",
        "\n",
        " - Adquirir experiencia práctica en la implementación de redes neuronales con la biblioteca *keras*\n",
        " - Evaluar la influencia que tienen en el entrenamiento de una *red profunda* la inclusión de técnicas como *Batch Normalization* o *Dropout* en la arquitectura de la red.\n",
        " - Evaluar el impacto de la *inicialización* de los pesos en el entrenamiento de una *red profunda*.\n",
        " - Diseñar, entrenar y evaluar arquitecturas para clasificar imágenes.  \n"
      ]
    },
    {
      "cell_type": "markdown",
      "id": "stuffed-configuration",
      "metadata": {
        "id": "stuffed-configuration"
      },
      "source": [
        "<table align=\"left\">\n",
        "  <td>\n",
        "    <a target=\"_blank\" href=\"https://colab.research.google.com/github/TAA-fing/TAA-2025/blob/main/talleres/taller6_Fashion-MNIST.ipynb\"><img src=\"https://www.tensorflow.org/images/colab_logo_32px.png\" />Ejecutar en Google Colab</a>\n",
        "  </td>\n",
        "</table>"
      ]
    },
    {
      "cell_type": "code",
      "source": [
        "!pip install comet_ml"
      ],
      "metadata": {
        "id": "-h8703O5KDVG",
        "outputId": "479214ff-5a27-44d8-b33d-e29ee00f4d04",
        "colab": {
          "base_uri": "https://localhost:8080/"
        }
      },
      "id": "-h8703O5KDVG",
      "execution_count": 1,
      "outputs": [
        {
          "output_type": "stream",
          "name": "stdout",
          "text": [
            "Collecting comet_ml\n",
            "  Downloading comet_ml-3.49.10-py3-none-any.whl.metadata (4.1 kB)\n",
            "Collecting dulwich!=0.20.33,>=0.20.6 (from comet_ml)\n",
            "  Downloading dulwich-0.22.8-cp311-cp311-manylinux_2_17_x86_64.manylinux2014_x86_64.whl.metadata (4.9 kB)\n",
            "Collecting everett<3.2.0,>=1.0.1 (from everett[ini]<3.2.0,>=1.0.1->comet_ml)\n",
            "  Downloading everett-3.1.0-py2.py3-none-any.whl.metadata (17 kB)\n",
            "Requirement already satisfied: jsonschema!=3.1.0,>=2.6.0 in /usr/local/lib/python3.11/dist-packages (from comet_ml) (4.23.0)\n",
            "Requirement already satisfied: psutil>=5.6.3 in /usr/local/lib/python3.11/dist-packages (from comet_ml) (5.9.5)\n",
            "Collecting python-box<7.0.0 (from comet_ml)\n",
            "  Downloading python_box-6.1.0-cp311-cp311-manylinux_2_17_x86_64.manylinux2014_x86_64.whl.metadata (7.8 kB)\n",
            "Requirement already satisfied: requests-toolbelt>=0.8.0 in /usr/local/lib/python3.11/dist-packages (from comet_ml) (1.0.0)\n",
            "Requirement already satisfied: requests>=2.18.4 in /usr/local/lib/python3.11/dist-packages (from comet_ml) (2.32.3)\n",
            "Requirement already satisfied: rich>=13.3.2 in /usr/local/lib/python3.11/dist-packages (from comet_ml) (13.9.4)\n",
            "Collecting semantic-version>=2.8.0 (from comet_ml)\n",
            "  Downloading semantic_version-2.10.0-py2.py3-none-any.whl.metadata (9.7 kB)\n",
            "Requirement already satisfied: sentry-sdk>=1.1.0 in /usr/local/lib/python3.11/dist-packages (from comet_ml) (2.29.1)\n",
            "Requirement already satisfied: simplejson in /usr/local/lib/python3.11/dist-packages (from comet_ml) (3.20.1)\n",
            "Requirement already satisfied: urllib3>=1.21.1 in /usr/local/lib/python3.11/dist-packages (from comet_ml) (2.4.0)\n",
            "Requirement already satisfied: wrapt>=1.11.2 in /usr/local/lib/python3.11/dist-packages (from comet_ml) (1.17.2)\n",
            "Requirement already satisfied: wurlitzer>=1.0.2 in /usr/local/lib/python3.11/dist-packages (from comet_ml) (3.1.1)\n",
            "Collecting configobj (from everett[ini]<3.2.0,>=1.0.1->comet_ml)\n",
            "  Downloading configobj-5.0.9-py2.py3-none-any.whl.metadata (3.2 kB)\n",
            "Requirement already satisfied: attrs>=22.2.0 in /usr/local/lib/python3.11/dist-packages (from jsonschema!=3.1.0,>=2.6.0->comet_ml) (25.3.0)\n",
            "Requirement already satisfied: jsonschema-specifications>=2023.03.6 in /usr/local/lib/python3.11/dist-packages (from jsonschema!=3.1.0,>=2.6.0->comet_ml) (2025.4.1)\n",
            "Requirement already satisfied: referencing>=0.28.4 in /usr/local/lib/python3.11/dist-packages (from jsonschema!=3.1.0,>=2.6.0->comet_ml) (0.36.2)\n",
            "Requirement already satisfied: rpds-py>=0.7.1 in /usr/local/lib/python3.11/dist-packages (from jsonschema!=3.1.0,>=2.6.0->comet_ml) (0.25.1)\n",
            "Requirement already satisfied: charset-normalizer<4,>=2 in /usr/local/lib/python3.11/dist-packages (from requests>=2.18.4->comet_ml) (3.4.2)\n",
            "Requirement already satisfied: idna<4,>=2.5 in /usr/local/lib/python3.11/dist-packages (from requests>=2.18.4->comet_ml) (3.10)\n",
            "Requirement already satisfied: certifi>=2017.4.17 in /usr/local/lib/python3.11/dist-packages (from requests>=2.18.4->comet_ml) (2025.4.26)\n",
            "Requirement already satisfied: markdown-it-py>=2.2.0 in /usr/local/lib/python3.11/dist-packages (from rich>=13.3.2->comet_ml) (3.0.0)\n",
            "Requirement already satisfied: pygments<3.0.0,>=2.13.0 in /usr/local/lib/python3.11/dist-packages (from rich>=13.3.2->comet_ml) (2.19.1)\n",
            "Requirement already satisfied: mdurl~=0.1 in /usr/local/lib/python3.11/dist-packages (from markdown-it-py>=2.2.0->rich>=13.3.2->comet_ml) (0.1.2)\n",
            "Requirement already satisfied: typing-extensions>=4.4.0 in /usr/local/lib/python3.11/dist-packages (from referencing>=0.28.4->jsonschema!=3.1.0,>=2.6.0->comet_ml) (4.13.2)\n",
            "Downloading comet_ml-3.49.10-py3-none-any.whl (727 kB)\n",
            "\u001b[2K   \u001b[90m━━━━━━━━━━━━━━━━━━━━━━━━━━━━━━━━━━━━━━━━\u001b[0m \u001b[32m727.1/727.1 kB\u001b[0m \u001b[31m10.2 MB/s\u001b[0m eta \u001b[36m0:00:00\u001b[0m\n",
            "\u001b[?25hDownloading dulwich-0.22.8-cp311-cp311-manylinux_2_17_x86_64.manylinux2014_x86_64.whl (1.0 MB)\n",
            "\u001b[2K   \u001b[90m━━━━━━━━━━━━━━━━━━━━━━━━━━━━━━━━━━━━━━━━\u001b[0m \u001b[32m1.0/1.0 MB\u001b[0m \u001b[31m34.3 MB/s\u001b[0m eta \u001b[36m0:00:00\u001b[0m\n",
            "\u001b[?25hDownloading everett-3.1.0-py2.py3-none-any.whl (35 kB)\n",
            "Downloading python_box-6.1.0-cp311-cp311-manylinux_2_17_x86_64.manylinux2014_x86_64.whl (3.5 MB)\n",
            "\u001b[2K   \u001b[90m━━━━━━━━━━━━━━━━━━━━━━━━━━━━━━━━━━━━━━━━\u001b[0m \u001b[32m3.5/3.5 MB\u001b[0m \u001b[31m52.0 MB/s\u001b[0m eta \u001b[36m0:00:00\u001b[0m\n",
            "\u001b[?25hDownloading semantic_version-2.10.0-py2.py3-none-any.whl (15 kB)\n",
            "Downloading configobj-5.0.9-py2.py3-none-any.whl (35 kB)\n",
            "Installing collected packages: everett, semantic-version, python-box, dulwich, configobj, comet_ml\n",
            "  Attempting uninstall: python-box\n",
            "    Found existing installation: python-box 7.3.2\n",
            "    Uninstalling python-box-7.3.2:\n",
            "      Successfully uninstalled python-box-7.3.2\n",
            "Successfully installed comet_ml-3.49.10 configobj-5.0.9 dulwich-0.22.8 everett-3.1.0 python-box-6.1.0 semantic-version-2.10.0\n"
          ]
        }
      ]
    },
    {
      "cell_type": "code",
      "execution_count": 2,
      "id": "exempt-invention",
      "metadata": {
        "ExecuteTime": {
          "end_time": "2022-05-18T08:34:33.495506Z",
          "start_time": "2022-05-18T08:34:30.252315Z"
        },
        "id": "exempt-invention"
      },
      "outputs": [],
      "source": [
        "from comet_ml import Experiment\n",
        "import tensorflow as tf\n",
        "from tensorflow import keras\n",
        "import numpy as np\n",
        "from matplotlib import pyplot as plt\n",
        "import os\n",
        "import pandas as pd"
      ]
    },
    {
      "cell_type": "markdown",
      "id": "roman-denver",
      "metadata": {
        "id": "roman-denver"
      },
      "source": [
        "Los paquetes faltantes se pueden instalar desde el notebook haciendo:     \n",
        "*!pip install paquete_faltante*"
      ]
    },
    {
      "cell_type": "markdown",
      "id": "marked-transmission",
      "metadata": {
        "id": "marked-transmission"
      },
      "source": [
        "### Parte 1 - Levantar los datos"
      ]
    },
    {
      "cell_type": "code",
      "source": [
        "(x_train, y_train), (x_test, y_test) = keras.datasets.fashion_mnist.load_data()\n"
      ],
      "metadata": {
        "id": "KAo7Sw9HKX1P",
        "outputId": "f4dc04ca-2f18-4306-af2c-a2230b41ca25",
        "colab": {
          "base_uri": "https://localhost:8080/"
        }
      },
      "id": "KAo7Sw9HKX1P",
      "execution_count": 3,
      "outputs": [
        {
          "output_type": "stream",
          "name": "stdout",
          "text": [
            "Downloading data from https://storage.googleapis.com/tensorflow/tf-keras-datasets/train-labels-idx1-ubyte.gz\n",
            "\u001b[1m29515/29515\u001b[0m \u001b[32m━━━━━━━━━━━━━━━━━━━━\u001b[0m\u001b[37m\u001b[0m \u001b[1m0s\u001b[0m 0us/step\n",
            "Downloading data from https://storage.googleapis.com/tensorflow/tf-keras-datasets/train-images-idx3-ubyte.gz\n",
            "\u001b[1m26421880/26421880\u001b[0m \u001b[32m━━━━━━━━━━━━━━━━━━━━\u001b[0m\u001b[37m\u001b[0m \u001b[1m0s\u001b[0m 0us/step\n",
            "Downloading data from https://storage.googleapis.com/tensorflow/tf-keras-datasets/t10k-labels-idx1-ubyte.gz\n",
            "\u001b[1m5148/5148\u001b[0m \u001b[32m━━━━━━━━━━━━━━━━━━━━\u001b[0m\u001b[37m\u001b[0m \u001b[1m0s\u001b[0m 0us/step\n",
            "Downloading data from https://storage.googleapis.com/tensorflow/tf-keras-datasets/t10k-images-idx3-ubyte.gz\n",
            "\u001b[1m4422102/4422102\u001b[0m \u001b[32m━━━━━━━━━━━━━━━━━━━━\u001b[0m\u001b[37m\u001b[0m \u001b[1m0s\u001b[0m 0us/step\n"
          ]
        }
      ]
    },
    {
      "cell_type": "markdown",
      "id": "optimum-rally",
      "metadata": {
        "id": "optimum-rally"
      },
      "source": [
        "Se trabajará con el conjunto de datos *Fashion MNIST* disponible en [*Keras*](https://keras.io/api/datasets/fashion_mnist/). Levantar los datos y separar, de los datos disponibles para entrenamiento, un subconjunto de 10000 muestras para validación."
      ]
    },
    {
      "cell_type": "markdown",
      "id": "prime-opposition",
      "metadata": {
        "id": "prime-opposition"
      },
      "source": [
        "### Parte 2  - Exploración de datos\n",
        "\n",
        "Como es habitual, una buena práctica es explorar los datos para familiarizarse con el problema. En este caso, además de en keras, el *dataset* está disponible en *Tensorflow Datasets*.\n",
        "\n",
        "Conteste a las siguientes preguntas:        \n",
        "    - ¿Cuántas imágenes hay disponibles? ¿De qué tamaño son?       \n",
        "    - ¿Cuál es el tipo de dato? ¿Es adecuado?         \n",
        "Muestre un ejemplo de cada clase."
      ]
    },
    {
      "cell_type": "code",
      "execution_count": 6,
      "id": "together-teacher",
      "metadata": {
        "id": "together-teacher",
        "outputId": "879f8498-b51e-4ddd-8c50-1d6023be5319",
        "colab": {
          "base_uri": "https://localhost:8080/"
        }
      },
      "outputs": [
        {
          "output_type": "stream",
          "name": "stdout",
          "text": [
            "(60000, 28, 28)\n",
            "uint8\n"
          ]
        }
      ],
      "source": [
        "print(x_train.shape)\n",
        "print(x_train.dtype)\n",
        ""
      ]
    },
    {
      "cell_type": "markdown",
      "id": "quarterly-typing",
      "metadata": {
        "id": "quarterly-typing"
      },
      "source": [
        "### Parte 3 - Un primer modelo"
      ]
    },
    {
      "cell_type": "markdown",
      "id": "curious-victorian",
      "metadata": {
        "id": "curious-victorian"
      },
      "source": [
        "Construya una red neuronal totalmente conectada de 20 capas y 100 neuronas por capa. Para ello se sugiere completar la implementación de la función `fully_connected_model`. Utilice *relu* como función de activación y *sgd* como optimizador.  Indique cuántos parámetros tiene la red."
      ]
    },
    {
      "cell_type": "code",
      "execution_count": 18,
      "id": "confirmed-expert",
      "metadata": {
        "id": "confirmed-expert"
      },
      "outputs": [],
      "source": [
        "def fully_connected_model(input_shape, n_hiddens, n_neurons, activation='relu',\n",
        "                        optimizer='sgd', learning_rate = 1e-3):\n",
        "\n",
        "    '''\n",
        "    Entrada:\n",
        "        input_shape: [M,N]\n",
        "        n_hiddens: número de capas ocultas\n",
        "        n_neurons: número de neuronas en cada capa oculta\n",
        "        activation: función de activación de las neuronas. Por defecto 'relu'.\n",
        "        optimizer: método de optimización. Por defecto 'sgd'.\n",
        "        learning_rate: tasa de aprendizaje del optimizador. Por defecto 1e-3.\n",
        "    Salida:\n",
        "        model: modelo generado\n",
        "    '''\n",
        "    tf.random.set_seed(42)\n",
        "    model = tf.keras.Sequential()\n",
        "    model.add(tf.keras.layers.InputLayer(input_shape=input_shape))\n",
        "    model.add(tf.keras.layers.Flatten())\n",
        "    for _ in range(n_hiddens):\n",
        "        model.add(tf.keras.layers.Dense(n_neurons, activation=activation))\n",
        "\n",
        "\n",
        "\n",
        "    if optimizer == 'sgd':\n",
        "        opt = tf.keras.optimizers.SGD(learning_rate=learning_rate)\n",
        "    elif optimizer == 'adam':\n",
        "        opt = tf.keras.optimizers.Adam(learning_rate=learning_rate)\n",
        "    elif optimizer == 'rmsprop':\n",
        "        opt = tf.keras.optimizers.RMSprop(learning_rate=learning_rate)\n",
        "    else:\n",
        "        raise ValueError(f\"Optimizador '{optimizer}' no soportado.\")\n",
        "\n",
        "    model.compile(optimizer=opt,\n",
        "                  loss='sparse_categorical_crossentropy',\n",
        "                  metrics=['accuracy']\n",
        "               )\n",
        "\n",
        "    return model"
      ]
    },
    {
      "cell_type": "markdown",
      "id": "judicial-concrete",
      "metadata": {
        "id": "judicial-concrete"
      },
      "source": [
        "### Parte 4 -  Un primer entrenamiento"
      ]
    },
    {
      "cell_type": "code",
      "source": [
        "x_train_norm, x_test_norm = x_train / 255., x_test / 255."
      ],
      "metadata": {
        "id": "ppFtXsB2W0pf"
      },
      "id": "ppFtXsB2W0pf",
      "execution_count": 22,
      "outputs": []
    },
    {
      "cell_type": "markdown",
      "id": "moved-hanging",
      "metadata": {
        "id": "moved-hanging"
      },
      "source": [
        "Entrene el modelo generado en la parte anterior durante 10 épocas para los siguientes valores de *learning rate*: [1e-4, 5e-4, 1e-3, 5e-3, 1e-2]. Muestre los desempeños en los conjuntos de entrenamiento y validación."
      ]
    },
    {
      "cell_type": "code",
      "source": [
        "model = fully_connected_model(input_shape=[28, 28], n_hiddens=20, n_neurons=100)\n",
        "model.fit(x_train_norm, y_train, epochs=10,\n",
        "                    validation_data=(x_test_norm, y_test))"
      ],
      "metadata": {
        "id": "U7rQDyzSQ-p3",
        "outputId": "6003f153-86c5-4a6e-b340-0ed84215a101",
        "colab": {
          "base_uri": "https://localhost:8080/"
        }
      },
      "id": "U7rQDyzSQ-p3",
      "execution_count": 24,
      "outputs": [
        {
          "output_type": "stream",
          "name": "stdout",
          "text": [
            "Epoch 1/10\n",
            "\u001b[1m1875/1875\u001b[0m \u001b[32m━━━━━━━━━━━━━━━━━━━━\u001b[0m\u001b[37m\u001b[0m \u001b[1m10s\u001b[0m 4ms/step - accuracy: 0.1020 - loss: 8.1150 - val_accuracy: 0.1000 - val_loss: 7.9453\n",
            "Epoch 2/10\n",
            "\u001b[1m1875/1875\u001b[0m \u001b[32m━━━━━━━━━━━━━━━━━━━━\u001b[0m\u001b[37m\u001b[0m \u001b[1m8s\u001b[0m 4ms/step - accuracy: 0.1028 - loss: 7.8917 - val_accuracy: 0.1000 - val_loss: 7.9452\n",
            "Epoch 3/10\n",
            "\u001b[1m1875/1875\u001b[0m \u001b[32m━━━━━━━━━━━━━━━━━━━━\u001b[0m\u001b[37m\u001b[0m \u001b[1m7s\u001b[0m 4ms/step - accuracy: 0.1028 - loss: 7.8915 - val_accuracy: 0.1000 - val_loss: 7.9449\n",
            "Epoch 4/10\n",
            "\u001b[1m1875/1875\u001b[0m \u001b[32m━━━━━━━━━━━━━━━━━━━━\u001b[0m\u001b[37m\u001b[0m \u001b[1m7s\u001b[0m 4ms/step - accuracy: 0.1028 - loss: 7.8912 - val_accuracy: 0.1000 - val_loss: 7.9443\n",
            "Epoch 5/10\n",
            "\u001b[1m1875/1875\u001b[0m \u001b[32m━━━━━━━━━━━━━━━━━━━━\u001b[0m\u001b[37m\u001b[0m \u001b[1m11s\u001b[0m 5ms/step - accuracy: 0.1028 - loss: 7.8905 - val_accuracy: 0.1000 - val_loss: 7.9434\n",
            "Epoch 6/10\n",
            "\u001b[1m1875/1875\u001b[0m \u001b[32m━━━━━━━━━━━━━━━━━━━━\u001b[0m\u001b[37m\u001b[0m \u001b[1m8s\u001b[0m 4ms/step - accuracy: 0.1028 - loss: 7.8895 - val_accuracy: 0.1000 - val_loss: 7.9414\n",
            "Epoch 7/10\n",
            "\u001b[1m1875/1875\u001b[0m \u001b[32m━━━━━━━━━━━━━━━━━━━━\u001b[0m\u001b[37m\u001b[0m \u001b[1m10s\u001b[0m 4ms/step - accuracy: 0.1028 - loss: 7.8869 - val_accuracy: 0.1000 - val_loss: 7.9355\n",
            "Epoch 8/10\n",
            "\u001b[1m1875/1875\u001b[0m \u001b[32m━━━━━━━━━━━━━━━━━━━━\u001b[0m\u001b[37m\u001b[0m \u001b[1m8s\u001b[0m 4ms/step - accuracy: 0.1028 - loss: 7.8773 - val_accuracy: 0.1000 - val_loss: 7.8907\n",
            "Epoch 9/10\n",
            "\u001b[1m1875/1875\u001b[0m \u001b[32m━━━━━━━━━━━━━━━━━━━━\u001b[0m\u001b[37m\u001b[0m \u001b[1m11s\u001b[0m 5ms/step - accuracy: 0.1029 - loss: 7.8768 - val_accuracy: 0.1000 - val_loss: 8.0911\n",
            "Epoch 10/10\n",
            "\u001b[1m1875/1875\u001b[0m \u001b[32m━━━━━━━━━━━━━━━━━━━━\u001b[0m\u001b[37m\u001b[0m \u001b[1m9s\u001b[0m 4ms/step - accuracy: 0.1003 - loss: 8.0567 - val_accuracy: 0.1000 - val_loss: 8.0911\n"
          ]
        },
        {
          "output_type": "execute_result",
          "data": {
            "text/plain": [
              "<keras.src.callbacks.history.History at 0x7965973ea250>"
            ]
          },
          "metadata": {},
          "execution_count": 24
        }
      ]
    },
    {
      "cell_type": "code",
      "source": [
        "model = fully_connected_model(input_shape=[28, 28], n_hiddens=20, n_neurons=100, learning_rate=1e-4)\n",
        "model.fit(x_train_norm, y_train, epochs=10,\n",
        "                    validation_data=(x_test_norm, y_test))"
      ],
      "metadata": {
        "id": "Q4KnGF8RTC04",
        "outputId": "7383e29a-c1fc-4626-8bbc-2f112bc9cd9e",
        "colab": {
          "base_uri": "https://localhost:8080/"
        }
      },
      "id": "Q4KnGF8RTC04",
      "execution_count": 13,
      "outputs": [
        {
          "output_type": "stream",
          "name": "stderr",
          "text": [
            "/usr/local/lib/python3.11/dist-packages/keras/src/layers/core/input_layer.py:27: UserWarning: Argument `input_shape` is deprecated. Use `shape` instead.\n",
            "  warnings.warn(\n"
          ]
        },
        {
          "output_type": "stream",
          "name": "stdout",
          "text": [
            "Epoch 1/10\n",
            "\u001b[1m1875/1875\u001b[0m \u001b[32m━━━━━━━━━━━━━━━━━━━━\u001b[0m\u001b[37m\u001b[0m \u001b[1m10s\u001b[0m 4ms/step - accuracy: 0.1144 - loss: 4.7445 - val_accuracy: 0.1871 - val_loss: 2.0086\n",
            "Epoch 2/10\n",
            "\u001b[1m1875/1875\u001b[0m \u001b[32m━━━━━━━━━━━━━━━━━━━━\u001b[0m\u001b[37m\u001b[0m \u001b[1m8s\u001b[0m 4ms/step - accuracy: 0.3226 - loss: 1.8544 - val_accuracy: 0.4336 - val_loss: 1.5211\n",
            "Epoch 3/10\n",
            "\u001b[1m1875/1875\u001b[0m \u001b[32m━━━━━━━━━━━━━━━━━━━━\u001b[0m\u001b[37m\u001b[0m \u001b[1m8s\u001b[0m 4ms/step - accuracy: 0.3974 - loss: 1.7872 - val_accuracy: 0.4361 - val_loss: 1.5030\n",
            "Epoch 4/10\n",
            "\u001b[1m1875/1875\u001b[0m \u001b[32m━━━━━━━━━━━━━━━━━━━━\u001b[0m\u001b[37m\u001b[0m \u001b[1m8s\u001b[0m 4ms/step - accuracy: 0.4436 - loss: 2.1205 - val_accuracy: 0.1000 - val_loss: 10.8334\n",
            "Epoch 5/10\n",
            "\u001b[1m1875/1875\u001b[0m \u001b[32m━━━━━━━━━━━━━━━━━━━━\u001b[0m\u001b[37m\u001b[0m \u001b[1m9s\u001b[0m 4ms/step - accuracy: 0.1003 - loss: 9.8259 - val_accuracy: 0.1000 - val_loss: 6.2164\n",
            "Epoch 6/10\n",
            "\u001b[1m1875/1875\u001b[0m \u001b[32m━━━━━━━━━━━━━━━━━━━━\u001b[0m\u001b[37m\u001b[0m \u001b[1m10s\u001b[0m 4ms/step - accuracy: 0.1003 - loss: 6.2079 - val_accuracy: 0.1000 - val_loss: 6.0970\n",
            "Epoch 7/10\n",
            "\u001b[1m1875/1875\u001b[0m \u001b[32m━━━━━━━━━━━━━━━━━━━━\u001b[0m\u001b[37m\u001b[0m \u001b[1m7s\u001b[0m 4ms/step - accuracy: 0.1003 - loss: 6.0654 - val_accuracy: 0.1000 - val_loss: 5.9327\n",
            "Epoch 8/10\n",
            "\u001b[1m1875/1875\u001b[0m \u001b[32m━━━━━━━━━━━━━━━━━━━━\u001b[0m\u001b[37m\u001b[0m \u001b[1m11s\u001b[0m 4ms/step - accuracy: 0.1003 - loss: 5.9252 - val_accuracy: 0.1000 - val_loss: 5.8621\n",
            "Epoch 9/10\n",
            "\u001b[1m1875/1875\u001b[0m \u001b[32m━━━━━━━━━━━━━━━━━━━━\u001b[0m\u001b[37m\u001b[0m \u001b[1m10s\u001b[0m 4ms/step - accuracy: 0.1003 - loss: 5.1389 - val_accuracy: 0.1000 - val_loss: 4.6910\n",
            "Epoch 10/10\n",
            "\u001b[1m1875/1875\u001b[0m \u001b[32m━━━━━━━━━━━━━━━━━━━━\u001b[0m\u001b[37m\u001b[0m \u001b[1m11s\u001b[0m 4ms/step - accuracy: 0.1003 - loss: 4.6217 - val_accuracy: 0.1000 - val_loss: 10.4907\n"
          ]
        }
      ]
    },
    {
      "cell_type": "code",
      "source": [
        "model = fully_connected_model(input_shape=[28, 28], n_hiddens=20, n_neurons=100, learning_rate=5e-4)\n",
        "model.fit(x_train_norm, y_train, epochs=10,\n",
        "                    validation_data=(x_test_norm, y_test))"
      ],
      "metadata": {
        "id": "wmvY676kTJD1",
        "outputId": "5ced4cc6-68f1-4452-e00c-71f5ac44b8cf",
        "colab": {
          "base_uri": "https://localhost:8080/"
        }
      },
      "id": "wmvY676kTJD1",
      "execution_count": 14,
      "outputs": [
        {
          "output_type": "stream",
          "name": "stdout",
          "text": [
            "Epoch 1/10\n",
            "\u001b[1m1875/1875\u001b[0m \u001b[32m━━━━━━━━━━━━━━━━━━━━\u001b[0m\u001b[37m\u001b[0m \u001b[1m10s\u001b[0m 4ms/step - accuracy: 0.0903 - loss: 9.6497 - val_accuracy: 0.1000 - val_loss: 10.3791\n",
            "Epoch 2/10\n",
            "\u001b[1m1875/1875\u001b[0m \u001b[32m━━━━━━━━━━━━━━━━━━━━\u001b[0m\u001b[37m\u001b[0m \u001b[1m7s\u001b[0m 4ms/step - accuracy: 0.1004 - loss: 10.4426 - val_accuracy: 0.1000 - val_loss: 10.3791\n",
            "Epoch 3/10\n",
            "\u001b[1m1875/1875\u001b[0m \u001b[32m━━━━━━━━━━━━━━━━━━━━\u001b[0m\u001b[37m\u001b[0m \u001b[1m7s\u001b[0m 4ms/step - accuracy: 0.1004 - loss: 10.4426 - val_accuracy: 0.1000 - val_loss: 10.3791\n",
            "Epoch 4/10\n",
            "\u001b[1m1875/1875\u001b[0m \u001b[32m━━━━━━━━━━━━━━━━━━━━\u001b[0m\u001b[37m\u001b[0m \u001b[1m8s\u001b[0m 4ms/step - accuracy: 0.1004 - loss: 10.4426 - val_accuracy: 0.1000 - val_loss: 10.3791\n",
            "Epoch 5/10\n",
            "\u001b[1m1875/1875\u001b[0m \u001b[32m━━━━━━━━━━━━━━━━━━━━\u001b[0m\u001b[37m\u001b[0m \u001b[1m7s\u001b[0m 4ms/step - accuracy: 0.1004 - loss: 10.4426 - val_accuracy: 0.1000 - val_loss: 10.3791\n",
            "Epoch 6/10\n",
            "\u001b[1m1875/1875\u001b[0m \u001b[32m━━━━━━━━━━━━━━━━━━━━\u001b[0m\u001b[37m\u001b[0m \u001b[1m10s\u001b[0m 4ms/step - accuracy: 0.1004 - loss: 10.4426 - val_accuracy: 0.1000 - val_loss: 10.3791\n",
            "Epoch 7/10\n",
            "\u001b[1m1875/1875\u001b[0m \u001b[32m━━━━━━━━━━━━━━━━━━━━\u001b[0m\u001b[37m\u001b[0m \u001b[1m10s\u001b[0m 4ms/step - accuracy: 0.1004 - loss: 10.4426 - val_accuracy: 0.1000 - val_loss: 10.3791\n",
            "Epoch 8/10\n",
            "\u001b[1m1875/1875\u001b[0m \u001b[32m━━━━━━━━━━━━━━━━━━━━\u001b[0m\u001b[37m\u001b[0m \u001b[1m7s\u001b[0m 4ms/step - accuracy: 0.1004 - loss: 10.4426 - val_accuracy: 0.1000 - val_loss: 10.3791\n",
            "Epoch 9/10\n",
            "\u001b[1m1875/1875\u001b[0m \u001b[32m━━━━━━━━━━━━━━━━━━━━\u001b[0m\u001b[37m\u001b[0m \u001b[1m7s\u001b[0m 4ms/step - accuracy: 0.1004 - loss: 10.4426 - val_accuracy: 0.1000 - val_loss: 10.3791\n",
            "Epoch 10/10\n",
            "\u001b[1m1875/1875\u001b[0m \u001b[32m━━━━━━━━━━━━━━━━━━━━\u001b[0m\u001b[37m\u001b[0m \u001b[1m7s\u001b[0m 4ms/step - accuracy: 0.1004 - loss: 10.4426 - val_accuracy: 0.1000 - val_loss: 10.3791\n"
          ]
        }
      ]
    },
    {
      "cell_type": "code",
      "source": [
        "model = fully_connected_model(input_shape=[28, 28], n_hiddens=20, n_neurons=100, learning_rate=5e-3)\n",
        "model.fit(x_train_norm, y_train, epochs=10,\n",
        "                    validation_data=(x_test_norm, y_test))"
      ],
      "metadata": {
        "id": "ckk2x7KSTNS1",
        "outputId": "ea22fd08-1fa6-4388-ffcc-d2d2d20e0d76",
        "colab": {
          "base_uri": "https://localhost:8080/"
        }
      },
      "id": "ckk2x7KSTNS1",
      "execution_count": 15,
      "outputs": [
        {
          "output_type": "stream",
          "name": "stdout",
          "text": [
            "Epoch 1/10\n",
            "\u001b[1m1875/1875\u001b[0m \u001b[32m━━━━━━━━━━━━━━━━━━━━\u001b[0m\u001b[37m\u001b[0m \u001b[1m10s\u001b[0m 4ms/step - accuracy: 0.1012 - loss: 8.8041 - val_accuracy: 0.1000 - val_loss: 8.7867\n",
            "Epoch 2/10\n",
            "\u001b[1m1875/1875\u001b[0m \u001b[32m━━━━━━━━━━━━━━━━━━━━\u001b[0m\u001b[37m\u001b[0m \u001b[1m7s\u001b[0m 4ms/step - accuracy: 0.1016 - loss: 8.8161 - val_accuracy: 0.1000 - val_loss: 8.7867\n",
            "Epoch 3/10\n",
            "\u001b[1m1875/1875\u001b[0m \u001b[32m━━━━━━━━━━━━━━━━━━━━\u001b[0m\u001b[37m\u001b[0m \u001b[1m10s\u001b[0m 4ms/step - accuracy: 0.1016 - loss: 8.8161 - val_accuracy: 0.1000 - val_loss: 8.7867\n",
            "Epoch 4/10\n",
            "\u001b[1m1875/1875\u001b[0m \u001b[32m━━━━━━━━━━━━━━━━━━━━\u001b[0m\u001b[37m\u001b[0m \u001b[1m10s\u001b[0m 4ms/step - accuracy: 0.1016 - loss: 8.8161 - val_accuracy: 0.1000 - val_loss: 8.7867\n",
            "Epoch 5/10\n",
            "\u001b[1m1875/1875\u001b[0m \u001b[32m━━━━━━━━━━━━━━━━━━━━\u001b[0m\u001b[37m\u001b[0m \u001b[1m10s\u001b[0m 4ms/step - accuracy: 0.1016 - loss: 8.8161 - val_accuracy: 0.1000 - val_loss: 8.7867\n",
            "Epoch 6/10\n",
            "\u001b[1m1875/1875\u001b[0m \u001b[32m━━━━━━━━━━━━━━━━━━━━\u001b[0m\u001b[37m\u001b[0m \u001b[1m8s\u001b[0m 4ms/step - accuracy: 0.1016 - loss: 8.8161 - val_accuracy: 0.1000 - val_loss: 8.7867\n",
            "Epoch 7/10\n",
            "\u001b[1m1875/1875\u001b[0m \u001b[32m━━━━━━━━━━━━━━━━━━━━\u001b[0m\u001b[37m\u001b[0m \u001b[1m7s\u001b[0m 4ms/step - accuracy: 0.1016 - loss: 8.8161 - val_accuracy: 0.1000 - val_loss: 8.7867\n",
            "Epoch 8/10\n",
            "\u001b[1m1875/1875\u001b[0m \u001b[32m━━━━━━━━━━━━━━━━━━━━\u001b[0m\u001b[37m\u001b[0m \u001b[1m11s\u001b[0m 4ms/step - accuracy: 0.1016 - loss: 8.8161 - val_accuracy: 0.1000 - val_loss: 8.7867\n",
            "Epoch 9/10\n",
            "\u001b[1m1875/1875\u001b[0m \u001b[32m━━━━━━━━━━━━━━━━━━━━\u001b[0m\u001b[37m\u001b[0m \u001b[1m10s\u001b[0m 4ms/step - accuracy: 0.1016 - loss: 8.8161 - val_accuracy: 0.1000 - val_loss: 8.7867\n",
            "Epoch 10/10\n",
            "\u001b[1m1875/1875\u001b[0m \u001b[32m━━━━━━━━━━━━━━━━━━━━\u001b[0m\u001b[37m\u001b[0m \u001b[1m8s\u001b[0m 4ms/step - accuracy: 0.1016 - loss: 8.8161 - val_accuracy: 0.1000 - val_loss: 8.7867\n"
          ]
        }
      ]
    },
    {
      "cell_type": "code",
      "source": [
        "model = fully_connected_model(input_shape=[28, 28], n_hiddens=20, n_neurons=100, learning_rate=1e-2)\n",
        "model.fit(x_train_norm, y_train, epochs=10,\n",
        "                    validation_data=(x_test_norm, y_test))"
      ],
      "metadata": {
        "id": "DnCMnIU4TOV6",
        "outputId": "bf354cd3-658b-4960-9b61-75f5eefc5ac9",
        "colab": {
          "base_uri": "https://localhost:8080/"
        }
      },
      "id": "DnCMnIU4TOV6",
      "execution_count": 16,
      "outputs": [
        {
          "output_type": "stream",
          "name": "stdout",
          "text": [
            "Epoch 1/10\n",
            "\u001b[1m1875/1875\u001b[0m \u001b[32m━━━━━━━━━━━━━━━━━━━━\u001b[0m\u001b[37m\u001b[0m \u001b[1m10s\u001b[0m 4ms/step - accuracy: 0.1487 - loss: 3.5091 - val_accuracy: 0.2375 - val_loss: 3.4979\n",
            "Epoch 2/10\n",
            "\u001b[1m1875/1875\u001b[0m \u001b[32m━━━━━━━━━━━━━━━━━━━━\u001b[0m\u001b[37m\u001b[0m \u001b[1m8s\u001b[0m 4ms/step - accuracy: 0.2087 - loss: 5.5596 - val_accuracy: 0.1000 - val_loss: 8.3618\n",
            "Epoch 3/10\n",
            "\u001b[1m1875/1875\u001b[0m \u001b[32m━━━━━━━━━━━━━━━━━━━━\u001b[0m\u001b[37m\u001b[0m \u001b[1m7s\u001b[0m 4ms/step - accuracy: 0.0991 - loss: 8.3988 - val_accuracy: 0.1000 - val_loss: 8.3618\n",
            "Epoch 4/10\n",
            "\u001b[1m1875/1875\u001b[0m \u001b[32m━━━━━━━━━━━━━━━━━━━━\u001b[0m\u001b[37m\u001b[0m \u001b[1m10s\u001b[0m 4ms/step - accuracy: 0.0991 - loss: 8.3988 - val_accuracy: 0.1000 - val_loss: 8.3618\n",
            "Epoch 5/10\n",
            "\u001b[1m1875/1875\u001b[0m \u001b[32m━━━━━━━━━━━━━━━━━━━━\u001b[0m\u001b[37m\u001b[0m \u001b[1m10s\u001b[0m 4ms/step - accuracy: 0.0991 - loss: 8.3988 - val_accuracy: 0.1000 - val_loss: 8.3618\n",
            "Epoch 6/10\n",
            "\u001b[1m1875/1875\u001b[0m \u001b[32m━━━━━━━━━━━━━━━━━━━━\u001b[0m\u001b[37m\u001b[0m \u001b[1m7s\u001b[0m 4ms/step - accuracy: 0.0991 - loss: 8.3988 - val_accuracy: 0.1000 - val_loss: 8.3618\n",
            "Epoch 7/10\n",
            "\u001b[1m1875/1875\u001b[0m \u001b[32m━━━━━━━━━━━━━━━━━━━━\u001b[0m\u001b[37m\u001b[0m \u001b[1m8s\u001b[0m 4ms/step - accuracy: 0.0991 - loss: 8.3988 - val_accuracy: 0.1000 - val_loss: 8.3618\n",
            "Epoch 8/10\n",
            "\u001b[1m1875/1875\u001b[0m \u001b[32m━━━━━━━━━━━━━━━━━━━━\u001b[0m\u001b[37m\u001b[0m \u001b[1m10s\u001b[0m 4ms/step - accuracy: 0.0991 - loss: 8.3988 - val_accuracy: 0.1000 - val_loss: 8.3618\n",
            "Epoch 9/10\n",
            "\u001b[1m1875/1875\u001b[0m \u001b[32m━━━━━━━━━━━━━━━━━━━━\u001b[0m\u001b[37m\u001b[0m \u001b[1m10s\u001b[0m 4ms/step - accuracy: 0.0991 - loss: 8.3988 - val_accuracy: 0.1000 - val_loss: 8.3618\n",
            "Epoch 10/10\n",
            "\u001b[1m1875/1875\u001b[0m \u001b[32m━━━━━━━━━━━━━━━━━━━━\u001b[0m\u001b[37m\u001b[0m \u001b[1m7s\u001b[0m 4ms/step - accuracy: 0.0991 - loss: 8.3988 - val_accuracy: 0.1000 - val_loss: 8.3618\n"
          ]
        }
      ]
    },
    {
      "cell_type": "markdown",
      "id": "popular-underwear",
      "metadata": {
        "id": "popular-underwear"
      },
      "source": [
        "### Parte 5: - Cambio de Inicialización"
      ]
    },
    {
      "cell_type": "markdown",
      "id": "banner-function",
      "metadata": {
        "id": "banner-function"
      },
      "source": [
        "**5a)** Repita el experimento pero cambiando el método de inicialización de los pesos. En vez de utilizar la inicialización por defecto, utilice 'he_normal'. Comente como cambian los resultados."
      ]
    },
    {
      "cell_type": "code",
      "source": [
        "def fully_connected_model_kernel(input_shape, n_hiddens, n_neurons, activation='relu',\n",
        "                        optimizer='sgd', learning_rate = 1e-3, kernel_initializer=\"he_normal\" ):\n",
        "\n",
        "    '''\n",
        "    Entrada:\n",
        "        input_shape: [M,N]\n",
        "        n_hiddens: número de capas ocultas\n",
        "        n_neurons: número de neuronas en cada capa oculta\n",
        "        activation: función de activación de las neuronas. Por defecto 'relu'.\n",
        "        optimizer: método de optimización. Por defecto 'sgd'.\n",
        "        learning_rate: tasa de aprendizaje del optimizador. Por defecto 1e-3.\n",
        "    Salida:\n",
        "        model: modelo generado\n",
        "    '''\n",
        "    tf.random.set_seed(42)\n",
        "    model = tf.keras.Sequential()\n",
        "    model.add(tf.keras.layers.InputLayer(input_shape=input_shape))\n",
        "    model.add(tf.keras.layers.Flatten())\n",
        "    for _ in range(n_hiddens):\n",
        "        model.add(tf.keras.layers.Dense(n_neurons, activation=activation, kernel_initializer=kernel_initializer))\n",
        "\n",
        "\n",
        "\n",
        "    if optimizer == 'sgd':\n",
        "        opt = tf.keras.optimizers.SGD(learning_rate=learning_rate)\n",
        "    elif optimizer == 'adam':\n",
        "        opt = tf.keras.optimizers.Adam(learning_rate=learning_rate)\n",
        "    elif optimizer == 'rmsprop':\n",
        "        opt = tf.keras.optimizers.RMSprop(learning_rate=learning_rate)\n",
        "    else:\n",
        "        raise ValueError(f\"Optimizador '{optimizer}' no soportado.\")\n",
        "\n",
        "    model.compile(optimizer=opt,\n",
        "                  loss='sparse_categorical_crossentropy',\n",
        "                  metrics=['accuracy']\n",
        "               )\n",
        "\n",
        "    return model"
      ],
      "metadata": {
        "id": "M2kkTXQWV4aN"
      },
      "id": "M2kkTXQWV4aN",
      "execution_count": 20,
      "outputs": []
    },
    {
      "cell_type": "code",
      "source": [
        "model = fully_connected_model_kernel(input_shape=[28, 28], n_hiddens=20, n_neurons=100, learning_rate=1e-4)\n",
        "history = model.fit(x_train, y_train, epochs=10,\n",
        "                    validation_data=(x_test, y_test))"
      ],
      "metadata": {
        "id": "khEkmwH8VYUw",
        "outputId": "269fff16-aab8-4ef8-bc14-2a2141f16173",
        "colab": {
          "base_uri": "https://localhost:8080/"
        }
      },
      "id": "khEkmwH8VYUw",
      "execution_count": 21,
      "outputs": [
        {
          "output_type": "stream",
          "name": "stderr",
          "text": [
            "/usr/local/lib/python3.11/dist-packages/keras/src/layers/core/input_layer.py:27: UserWarning: Argument `input_shape` is deprecated. Use `shape` instead.\n",
            "  warnings.warn(\n"
          ]
        },
        {
          "output_type": "stream",
          "name": "stdout",
          "text": [
            "Epoch 1/10\n",
            "\u001b[1m1875/1875\u001b[0m \u001b[32m━━━━━━━━━━━━━━━━━━━━\u001b[0m\u001b[37m\u001b[0m \u001b[1m10s\u001b[0m 4ms/step - accuracy: 0.0741 - loss: 12.4246 - val_accuracy: 0.1000 - val_loss: 13.5210\n",
            "Epoch 2/10\n",
            "\u001b[1m1875/1875\u001b[0m \u001b[32m━━━━━━━━━━━━━━━━━━━━\u001b[0m\u001b[37m\u001b[0m \u001b[1m9s\u001b[0m 4ms/step - accuracy: 0.0991 - loss: 13.5284 - val_accuracy: 0.1000 - val_loss: 13.5210\n",
            "Epoch 3/10\n",
            "\u001b[1m1875/1875\u001b[0m \u001b[32m━━━━━━━━━━━━━━━━━━━━\u001b[0m\u001b[37m\u001b[0m \u001b[1m7s\u001b[0m 4ms/step - accuracy: 0.0991 - loss: 13.5284 - val_accuracy: 0.1000 - val_loss: 13.5210\n",
            "Epoch 4/10\n",
            "\u001b[1m1875/1875\u001b[0m \u001b[32m━━━━━━━━━━━━━━━━━━━━\u001b[0m\u001b[37m\u001b[0m \u001b[1m7s\u001b[0m 4ms/step - accuracy: 0.0991 - loss: 13.5284 - val_accuracy: 0.1000 - val_loss: 13.5210\n",
            "Epoch 5/10\n",
            "\u001b[1m1875/1875\u001b[0m \u001b[32m━━━━━━━━━━━━━━━━━━━━\u001b[0m\u001b[37m\u001b[0m \u001b[1m11s\u001b[0m 4ms/step - accuracy: 0.0991 - loss: 13.5284 - val_accuracy: 0.1000 - val_loss: 13.5210\n",
            "Epoch 6/10\n",
            "\u001b[1m1875/1875\u001b[0m \u001b[32m━━━━━━━━━━━━━━━━━━━━\u001b[0m\u001b[37m\u001b[0m \u001b[1m10s\u001b[0m 4ms/step - accuracy: 0.0991 - loss: 13.5284 - val_accuracy: 0.1000 - val_loss: 13.5210\n",
            "Epoch 7/10\n",
            "\u001b[1m1875/1875\u001b[0m \u001b[32m━━━━━━━━━━━━━━━━━━━━\u001b[0m\u001b[37m\u001b[0m \u001b[1m7s\u001b[0m 4ms/step - accuracy: 0.0991 - loss: 13.5284 - val_accuracy: 0.1000 - val_loss: 13.5210\n",
            "Epoch 8/10\n",
            "\u001b[1m1875/1875\u001b[0m \u001b[32m━━━━━━━━━━━━━━━━━━━━\u001b[0m\u001b[37m\u001b[0m \u001b[1m8s\u001b[0m 4ms/step - accuracy: 0.0991 - loss: 13.5284 - val_accuracy: 0.1000 - val_loss: 13.5210\n",
            "Epoch 9/10\n",
            "\u001b[1m1875/1875\u001b[0m \u001b[32m━━━━━━━━━━━━━━━━━━━━\u001b[0m\u001b[37m\u001b[0m \u001b[1m8s\u001b[0m 4ms/step - accuracy: 0.0991 - loss: 13.5284 - val_accuracy: 0.1000 - val_loss: 13.5210\n",
            "Epoch 10/10\n",
            "\u001b[1m1875/1875\u001b[0m \u001b[32m━━━━━━━━━━━━━━━━━━━━\u001b[0m\u001b[37m\u001b[0m \u001b[1m7s\u001b[0m 4ms/step - accuracy: 0.0991 - loss: 13.5284 - val_accuracy: 0.1000 - val_loss: 13.5210\n"
          ]
        }
      ]
    },
    {
      "cell_type": "code",
      "source": [
        "model = fully_connected_model_kernel(input_shape=[28, 28], n_hiddens=20, n_neurons=100, learning_rate=1e-4)\n",
        "history = model.fit(x_train_norm, y_train, epochs=10,\n",
        "                    validation_data=(x_test_norm, y_test))"
      ],
      "metadata": {
        "id": "rbFKRfM6XStX",
        "outputId": "1b3205df-e6a5-4b61-a37f-25f576d1226a",
        "colab": {
          "base_uri": "https://localhost:8080/"
        }
      },
      "id": "rbFKRfM6XStX",
      "execution_count": 23,
      "outputs": [
        {
          "output_type": "stream",
          "name": "stderr",
          "text": [
            "/usr/local/lib/python3.11/dist-packages/keras/src/layers/core/input_layer.py:27: UserWarning: Argument `input_shape` is deprecated. Use `shape` instead.\n",
            "  warnings.warn(\n"
          ]
        },
        {
          "output_type": "stream",
          "name": "stdout",
          "text": [
            "Epoch 1/10\n",
            "\u001b[1m1875/1875\u001b[0m \u001b[32m━━━━━━━━━━━━━━━━━━━━\u001b[0m\u001b[37m\u001b[0m \u001b[1m10s\u001b[0m 4ms/step - accuracy: 0.1097 - loss: 6.1525 - val_accuracy: 0.3841 - val_loss: 1.8159\n",
            "Epoch 2/10\n",
            "\u001b[1m1875/1875\u001b[0m \u001b[32m━━━━━━━━━━━━━━━━━━━━\u001b[0m\u001b[37m\u001b[0m \u001b[1m8s\u001b[0m 4ms/step - accuracy: 0.3580 - loss: 2.2701 - val_accuracy: 0.1000 - val_loss: 8.5731\n",
            "Epoch 3/10\n",
            "\u001b[1m1875/1875\u001b[0m \u001b[32m━━━━━━━━━━━━━━━━━━━━\u001b[0m\u001b[37m\u001b[0m \u001b[1m8s\u001b[0m 4ms/step - accuracy: 0.0991 - loss: 8.5851 - val_accuracy: 0.1000 - val_loss: 8.5731\n",
            "Epoch 4/10\n",
            "\u001b[1m1875/1875\u001b[0m \u001b[32m━━━━━━━━━━━━━━━━━━━━\u001b[0m\u001b[37m\u001b[0m \u001b[1m10s\u001b[0m 4ms/step - accuracy: 0.0991 - loss: 8.5851 - val_accuracy: 0.1000 - val_loss: 8.5731\n",
            "Epoch 5/10\n",
            "\u001b[1m1875/1875\u001b[0m \u001b[32m━━━━━━━━━━━━━━━━━━━━\u001b[0m\u001b[37m\u001b[0m \u001b[1m8s\u001b[0m 4ms/step - accuracy: 0.0991 - loss: 8.5851 - val_accuracy: 0.1000 - val_loss: 8.5731\n",
            "Epoch 6/10\n",
            "\u001b[1m1875/1875\u001b[0m \u001b[32m━━━━━━━━━━━━━━━━━━━━\u001b[0m\u001b[37m\u001b[0m \u001b[1m9s\u001b[0m 4ms/step - accuracy: 0.0991 - loss: 8.5851 - val_accuracy: 0.1000 - val_loss: 8.5731\n",
            "Epoch 7/10\n",
            "\u001b[1m1875/1875\u001b[0m \u001b[32m━━━━━━━━━━━━━━━━━━━━\u001b[0m\u001b[37m\u001b[0m \u001b[1m10s\u001b[0m 4ms/step - accuracy: 0.0991 - loss: 8.5851 - val_accuracy: 0.1000 - val_loss: 8.5731\n",
            "Epoch 8/10\n",
            "\u001b[1m1875/1875\u001b[0m \u001b[32m━━━━━━━━━━━━━━━━━━━━\u001b[0m\u001b[37m\u001b[0m \u001b[1m9s\u001b[0m 5ms/step - accuracy: 0.0991 - loss: 8.5851 - val_accuracy: 0.1000 - val_loss: 8.5731\n",
            "Epoch 9/10\n",
            "\u001b[1m1875/1875\u001b[0m \u001b[32m━━━━━━━━━━━━━━━━━━━━\u001b[0m\u001b[37m\u001b[0m \u001b[1m7s\u001b[0m 4ms/step - accuracy: 0.0991 - loss: 8.5851 - val_accuracy: 0.1000 - val_loss: 8.5731\n",
            "Epoch 10/10\n",
            "\u001b[1m1875/1875\u001b[0m \u001b[32m━━━━━━━━━━━━━━━━━━━━\u001b[0m\u001b[37m\u001b[0m \u001b[1m7s\u001b[0m 4ms/step - accuracy: 0.0991 - loss: 8.5851 - val_accuracy: 0.1000 - val_loss: 8.5731\n"
          ]
        }
      ]
    },
    {
      "cell_type": "markdown",
      "id": "innocent-encounter",
      "metadata": {
        "id": "innocent-encounter"
      },
      "source": [
        "**5b) (opcional):** Probar otras formas de inicialización. Por ejemplo, ¿Qué pasa si se utiliza 'random_normal'?"
      ]
    },
    {
      "cell_type": "markdown",
      "id": "relative-noise",
      "metadata": {
        "id": "relative-noise"
      },
      "source": [
        "### Parte 6 - Batch Normalization"
      ]
    },
    {
      "cell_type": "markdown",
      "id": "portuguese-frank",
      "metadata": {
        "id": "portuguese-frank"
      },
      "source": [
        "Modifique la implementación de la función *fully_connected_model* para que admita la posibilidad de agregar capas de *batch normalization*. En caso de utilizar *batch normalization* coloque dichas capas luego de las capas densas y antes de las activaciones, tal como fue propuesto en el [paper original](https://arxiv.org/pdf/1502.03167.pdf)."
      ]
    },
    {
      "cell_type": "markdown",
      "id": "precise-celebrity",
      "metadata": {
        "id": "precise-celebrity"
      },
      "source": [
        "**6a)** ¿Cuántos parámetros tiene el modelo con *batch normalization*? ¿Qué son y para que se usan los *Non-trainable-parameters*?"
      ]
    },
    {
      "cell_type": "markdown",
      "id": "offshore-finger",
      "metadata": {
        "id": "offshore-finger"
      },
      "source": [
        "**6b)** Repita el experimento de la **parte 4** pero ahora utilizando el modelo con *batch normalization*. Para este experimento vuelva a la inicialización de los pesos por defecto ('glorot_uniform')."
      ]
    },
    {
      "cell_type": "markdown",
      "id": "emerging-makeup",
      "metadata": {
        "id": "emerging-makeup"
      },
      "source": [
        "### Parte 7 -  Optimizador"
      ]
    },
    {
      "cell_type": "markdown",
      "id": "manual-magic",
      "metadata": {
        "id": "manual-magic"
      },
      "source": [
        "**Parte 7a)** De ser necesario, modifique la implementación de la función `fully_connected_model()` para que permita optimizar utilizando el método *adam*. Repita el experimento de la **parte 4** pero modificando solamente el optimizador. Comente los cambios que observa."
      ]
    },
    {
      "cell_type": "markdown",
      "id": "canadian-heritage",
      "metadata": {
        "id": "canadian-heritage"
      },
      "source": [
        "**Parte 7b)** ¿Cambian los resultados del entrenamiento si en la parte anterior además de cambiar el optimizador se agrega *batch normalization* ?"
      ]
    },
    {
      "cell_type": "code",
      "execution_count": null,
      "id": "thermal-pencil",
      "metadata": {
        "id": "thermal-pencil"
      },
      "outputs": [],
      "source": []
    },
    {
      "cell_type": "markdown",
      "id": "ahead-theorem",
      "metadata": {
        "id": "ahead-theorem"
      },
      "source": [
        "### Parte 8  -  Red Neuronal Convolucional"
      ]
    },
    {
      "cell_type": "markdown",
      "id": "confirmed-trust",
      "metadata": {
        "id": "confirmed-trust"
      },
      "source": [
        "**8a)** Escribir una función similar a la de la **parte 3** pero que construya una red neuronal convolucional con la siguiente arquitectura:\n",
        "    \n",
        "N * [Conv2D --> Conv2D --> Pool2D] → Flatten → Dense → Dense.\n",
        "\n",
        "donde *N* representa la cantidad de bloques [Conv2D --> Conv2D --> Pool2D] a utilizar."
      ]
    },
    {
      "cell_type": "markdown",
      "id": "irish-alloy",
      "metadata": {
        "id": "irish-alloy"
      },
      "source": [
        "**8b)** Entrenar una realización de la red. Por ejemplo, utilizar:\n",
        "- N=2\n",
        "- 64 filtros de convolución de tamaño 3 en la primera capa del bloque\n",
        "- 32 filtros de convolución de tamaño 3 en la segunda capa del bloque\n",
        "- 128 neuronas en la primera capa densa"
      ]
    },
    {
      "cell_type": "markdown",
      "id": "dietary-travel",
      "metadata": {
        "id": "dietary-travel"
      },
      "source": [
        "**8c)** ¿Cuántos parámetros tiene el modelo?"
      ]
    },
    {
      "cell_type": "markdown",
      "id": "cooked-england",
      "metadata": {
        "id": "cooked-england"
      },
      "source": [
        "### Parte 9 - Entrenar la mejor arquitectura posible\n",
        "\n",
        "En esta parte el objetivo será entrenar el mejor clasificador posible para *Fashion MNIST*. La única restricción es que el modelo de arquitectura tendrá que ser como el de la **parte 3** o como el de la **parte 8**. En ambos casos se podrán evaluar las siguientes variaciones:     \n",
        "    - Número de capas y neuronas por capa en el modelo de la **parte3**     \n",
        "    - Número de bloques, cantidad de filtros de bloque y tamaño de los filtros en el caso del modelo de la **parte 8**              \n",
        "    - Distintas funciones de activación y métodos de inicialización de pesos     \n",
        "    - Agregado de *Batch Normalization* y/o *Dropout*    \n",
        "    - Distintos métodos de optimización y sus parámetros     "
      ]
    },
    {
      "cell_type": "markdown",
      "id": "catholic-guard",
      "metadata": {
        "id": "catholic-guard"
      },
      "source": [
        "Para entrenar los modelos se recomienda la utilización de alguno de los [callbacks](https://keras.io/callbacks/) disponibles en *keras*. Por ejemplo: *early stopping* y *model checkpoint*."
      ]
    },
    {
      "cell_type": "code",
      "execution_count": null,
      "id": "formed-angle",
      "metadata": {
        "id": "formed-angle"
      },
      "outputs": [],
      "source": []
    }
  ],
  "metadata": {
    "kernelspec": {
      "display_name": "Python 3",
      "name": "python3"
    },
    "language_info": {
      "codemirror_mode": {
        "name": "ipython",
        "version": 3
      },
      "file_extension": ".py",
      "mimetype": "text/x-python",
      "name": "python",
      "nbconvert_exporter": "python",
      "pygments_lexer": "ipython3",
      "version": "3.12.9"
    },
    "varInspector": {
      "cols": {
        "lenName": 16,
        "lenType": 16,
        "lenVar": 40
      },
      "kernels_config": {
        "python": {
          "delete_cmd_postfix": "",
          "delete_cmd_prefix": "del ",
          "library": "var_list.py",
          "varRefreshCmd": "print(var_dic_list())"
        },
        "r": {
          "delete_cmd_postfix": ") ",
          "delete_cmd_prefix": "rm(",
          "library": "var_list.r",
          "varRefreshCmd": "cat(var_dic_list()) "
        }
      },
      "types_to_exclude": [
        "module",
        "function",
        "builtin_function_or_method",
        "instance",
        "_Feature"
      ],
      "window_display": false
    },
    "colab": {
      "provenance": [],
      "gpuType": "T4"
    },
    "accelerator": "GPU"
  },
  "nbformat": 4,
  "nbformat_minor": 5
}